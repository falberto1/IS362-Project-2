{
 "cells": [
  {
   "cell_type": "markdown",
   "id": "d05937ef",
   "metadata": {},
   "source": [
    "The reference website that links the dataset. This also explains the methods to tidy the dataset. The methods that are on the site were mostly use to understand the data. The only ones used were the select the columns with the select function\n",
    "https://blog.exploratory.io/tidy-untidy-united-nations-migration-data-with-tidyr-167cbd24c5c2"
   ]
  },
  {
   "cell_type": "code",
   "execution_count": null,
   "id": "e385eb4a",
   "metadata": {},
   "outputs": [],
   "source": [
    "df_wide<- read.csv(\"Users//falberto//Documents//IS362_Project 2//.csv\", header=FALSE, sep=\",\")\n",
    "df2_wide<-df_wide[-c(1:15),]\n",
    "head(df2_wide[1:10])"
   ]
  },
  {
   "cell_type": "code",
   "execution_count": null,
   "id": "f524774b",
   "metadata": {},
   "outputs": [],
   "source": [
    "##      V1      V2                        V3 V4  V5 V6          V7\n",
    "## 16                                                        Total\n",
    "## 17 1990 1990001                     WORLD    900    153,011,473\n",
    "## 18 1990 1990002     UN development groups                    ..\n",
    "## 19 1990 1990003    More developed regions  b 901     82,767,216\n",
    "## 20 1990 1990004    Less developed regions  c 902     70,244,257\n",
    "## 21 1990 1990005 Least developed countries  d 941     11,060,221\n",
    "##             V8          V9         V10\n",
    "## 16 Other South Other North Afghanistan\n",
    "## 17   6,548,526   2,366,800   6,823,350\n",
    "## 18          ..          ..          ..\n",
    "## 19   3,385,103   1,077,179     119,386\n",
    "## 20   3,163,423   1,289,621   6,703,964\n",
    "## 21     482,753     239,756           0"
   ]
  },
  {
   "cell_type": "markdown",
   "id": "c46f6912",
   "metadata": {},
   "source": [
    "There are approximately over 200 variable in the country columns. The countries of Destination will be picked to turn into rows. The Subset will be applied on the Country of Origin. The Country of origin being United States of America."
   ]
  },
  {
   "cell_type": "code",
   "execution_count": null,
   "id": "e26534e5",
   "metadata": {},
   "outputs": [],
   "source": [
    "library(dplyr)"
   ]
  },
  {
   "cell_type": "code",
   "execution_count": null,
   "id": "1318bb35",
   "metadata": {},
   "outputs": [],
   "source": [
    "## \n",
    "## Attaching package: 'dplyr'"
   ]
  },
  {
   "cell_type": "code",
   "execution_count": null,
   "id": "1f6d1785",
   "metadata": {},
   "outputs": [],
   "source": [
    "## The following objects are masked from 'package:stats':\n",
    "## \n",
    "##     filter, lag"
   ]
  },
  {
   "cell_type": "code",
   "execution_count": null,
   "id": "0eb68932",
   "metadata": {},
   "outputs": [],
   "source": [
    "## The following objects are masked from 'package:base':\n",
    "## \n",
    "##     intersect, setdiff, setequal, union"
   ]
  },
  {
   "cell_type": "code",
   "execution_count": null,
   "id": "918f394f",
   "metadata": {},
   "outputs": [],
   "source": [
    "library(tidyr)\n",
    "df3_wide<-select(df2_wide,-V2,-V4,-V5,-V7)\n",
    "df4_wide<-rename(df3_wide,Year=V1,Origin=V3,group=V6,Afghanistan=V10,Albania=V11,Algeria=V12,Angola=V15)\n",
    "df5_wide<- subset(df4_wide,Origin==\"United States of America\")\n",
    "df6_wide<-select(df5_wide,Year,Origin,Afghanistan,Albania,Algeria,Angola)\n",
    "df2_long<-gather(df6_wide,Destination,Persons,-Origin,-Year)"
   ]
  },
  {
   "cell_type": "code",
   "execution_count": null,
   "id": "7b431266",
   "metadata": {},
   "outputs": [],
   "source": [
    "## Warning: attributes are not identical across measure variables;\n",
    "## they will be dropped"
   ]
  },
  {
   "cell_type": "code",
   "execution_count": null,
   "id": "5a13c054",
   "metadata": {},
   "outputs": [],
   "source": [
    "df2_long"
   ]
  },
  {
   "cell_type": "code",
   "execution_count": null,
   "id": "22c639fa",
   "metadata": {},
   "outputs": [],
   "source": [
    "##    Year                   Origin Destination Persons\n",
    "## 1  1990 United States of America Afghanistan  28,444\n",
    "## 2  1995 United States of America Afghanistan  37,312\n",
    "## 3  2000 United States of America Afghanistan  46,342\n",
    "## 4  2005 United States of America Afghanistan  51,965\n",
    "## 5  2010 United States of America Afghanistan  59,330\n",
    "## 6  2015 United States of America Afghanistan  74,106\n",
    "## 7  2019 United States of America Afghanistan  80,026\n",
    "## 8  1990 United States of America     Albania   5,627\n",
    "## 9  1995 United States of America     Albania  22,440\n",
    "## 10 2000 United States of America     Albania  39,644\n",
    "## 11 2005 United States of America     Albania  54,825\n",
    "## 12 2010 United States of America     Albania  72,085\n",
    "## 13 2015 United States of America     Albania  91,865\n",
    "## 14 2019 United States of America     Albania  99,205\n",
    "## 15 1990 United States of America     Algeria   4,629\n",
    "## 16 1995 United States of America     Algeria   7,859\n",
    "## 17 2000 United States of America     Algeria  11,158\n",
    "## 18 2005 United States of America     Algeria  12,680\n",
    "## 19 2010 United States of America     Algeria  14,633\n",
    "## 20 2015 United States of America     Algeria  19,633\n",
    "## 21 2019 United States of America     Algeria  21,201\n",
    "## 22 1990 United States of America      Angola   2,252\n",
    "## 23 1995 United States of America      Angola   3,352\n",
    "## 24 2000 United States of America      Angola   4,475\n",
    "## 25 2005 United States of America      Angola   7,294\n",
    "## 26 2010 United States of America      Angola  10,411\n",
    "## 27 2015 United States of America      Angola  14,068\n",
    "## 28 2019 United States of America      Angola  15,192"
   ]
  },
  {
   "cell_type": "markdown",
   "id": "efe40d23",
   "metadata": {},
   "source": [
    "The chart was created to show relationship between United Stated migration to Afghanistan. The Chart shows the number of people that are migrating to a specific country. This is shown by the year.In the chart shows the number of people migrating to Afghanistan from the US. Which it has been increasing roughly every 5 years from about 28,000 in the year 1990 to 80,000 in 2019."
   ]
  },
  {
   "cell_type": "code",
   "execution_count": null,
   "id": "1ef31905",
   "metadata": {},
   "outputs": [],
   "source": [
    "library(ggplot2)\n",
    "df3_long<-subset(df2_long,Destination==\"Afghanistan\")\n",
    "ggplot(df3_long, aes(x=df3_long$Year, y=df3_long$Persons, fill=df3_long$Destination)) + geom_bar(stat='identity', position='dodge')"
   ]
  },
  {
   "attachments": {
    "download.png": {
     "image/png": "[encoded data removed]"
    }
   },
   "cell_type": "markdown",
   "id": "d72ac3f6",
   "metadata": {},
   "source": [
    "![download.png](attachment:download.png)"
   ]
  }
 ],
 "metadata": {
  "kernelspec": {
   "display_name": "Python 3 (ipykernel)",
   "language": "python",
   "name": "python3"
  },
  "language_info": {
   "codemirror_mode": {
    "name": "ipython",
    "version": 3
   },
   "file_extension": ".py",
   "mimetype": "text/x-python",
   "name": "python",
   "nbconvert_exporter": "python",
   "pygments_lexer": "ipython3",
   "version": "3.9.7"
  }
 },
 "nbformat": 4,
 "nbformat_minor": 5
}
